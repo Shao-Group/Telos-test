{
 "cells": [
  {
   "cell_type": "code",
   "execution_count": null,
   "id": "8fa1bd9c",
   "metadata": {},
   "outputs": [
    {
     "name": "stdout",
     "output_type": "stream",
     "text": [
      "/datadisk1/ixk5174/project_repo/Telos\n",
      "left_df.shape (0, 30)\n",
      "rigth_df.shape (0, 30)\n"
     ]
    }
   ],
   "source": [
    "from config import load_config\n",
    "import pandas as pd\n",
    "import os\n",
    "os.chdir(\"/datadisk1/ixk5174/project_repo/Telos\")\n",
    "print(os.getcwd())\n",
    "cfg = load_config(\"project_config/config.pkl\")\n",
    "cfg.cov_file = cfg.data_output_dir + \"/test_cov.tsv\"\n",
    "\n",
    "cov_df = pd.read_csv(cfg.cov_file, sep=\"\\t\")\n",
    "tss_df = pd.read_csv(cfg.tss_labeled_file)\n",
    "tes_df = pd.read_csv(cfg.tes_labeled_file)\n",
    "\n",
    "df = cov_df.merge(tss_df, how=\"outer\", left_on=[\"tss_chrom\", \"tss_pos\"], right_on=[\"chrom\", \"position\"], indicator=True)\n",
    "\n",
    "df.head(df[df[\"_merge\"] == \"both\"].shape[0])\n",
    "left_df = df[df[\"_merge\"] == \"left_only\"]\n",
    "right_df = df[df[\"_merge\"] == \"right_only\"]\n",
    "print(\"left_df.shape\", left_df.shape)\n",
    "print(\"right_df.shape\", right_df.shape)\n"
   ]
  }
 ],
 "metadata": {
  "kernelspec": {
   "display_name": "irtesam-berth",
   "language": "python",
   "name": "python3"
  },
  "language_info": {
   "codemirror_mode": {
    "name": "ipython",
    "version": 3
   },
   "file_extension": ".py",
   "mimetype": "text/x-python",
   "name": "python",
   "nbconvert_exporter": "python",
   "pygments_lexer": "ipython3",
   "version": "3.12.8"
  }
 },
 "nbformat": 4,
 "nbformat_minor": 5
}
