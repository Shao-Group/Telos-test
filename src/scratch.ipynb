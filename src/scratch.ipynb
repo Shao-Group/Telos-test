{
 "cells": [
  {
   "cell_type": "code",
   "execution_count": 17,
   "id": "8fa1bd9c",
   "metadata": {},
   "outputs": [
    {
     "name": "stdout",
     "output_type": "stream",
     "text": [
      "/datadisk1/ixk5174/project_repo/Telos-test\n",
      "df_cov.shape: (6948, 7)\n",
      "df_label.shape: (6948, 2)\n",
      "df.shape: (6948, 88)\n",
      "df.shape: (6948, 169)\n",
      "df.shape: (6948, 170)\n",
      "df_pos.shape: (5534, 170)\n",
      "df_neg.shape: (1414, 170)\n",
      "df_pos['label_tss   '].value_counts(): label_tss\n",
      "1    0.820564\n",
      "0    0.179436\n",
      "Name: count, dtype: float64\n",
      "df_neg['label_tss'].value_counts(): label_tss\n",
      "1    0.644272\n",
      "0    0.355728\n",
      "Name: count, dtype: float64\n",
      "df_pos['label_tes'].value_counts(): label_tes\n",
      "1    0.80918\n",
      "0    0.19082\n",
      "Name: count, dtype: float64\n",
      "df_neg['label_tes'].value_counts(): label_tes\n",
      "1    0.683168\n",
      "0    0.316832\n",
      "Name: count, dtype: float64\n"
     ]
    }
   ],
   "source": [
    "from extract_features import extract_features\n",
    "from config import load_config\n",
    "import pysam\n",
    "import pandas as pd\n",
    "from ml_utils import load_tmap_labels\n",
    "import os\n",
    "\n",
    "os.chdir(\"/datadisk1/ixk5174/project_repo/Telos-test/\")\n",
    "print(os.getcwd())\n",
    "\n",
    "cfg = load_config(\"project_config/dRNA-ENCFF155CFF_isoquant_config.pkl\")\n",
    "# bam = pysam.AlignmentFile(\"../\" + cfg.bam_file, \"rb\")  # <-- adjust path if needed\n",
    "\n",
    "df_tss = pd.read_csv(cfg.tss_labeled_file, dtype={\"chrom\": str})\n",
    "df_tes = pd.read_csv(cfg.tes_labeled_file, dtype={\"chrom\": str})\n",
    "\n",
    "df_cov = pd.read_csv(cfg.cov_file, sep=\"\\t\")\n",
    "print(f\"df_cov.shape: {df_cov.shape}\")\n",
    "df_label = load_tmap_labels(cfg.tmap_file)\n",
    "print(f\"df_label.shape: {df_label.shape}\")\n",
    "\n",
    "# print()\n",
    "\n",
    "df = df_cov.merge(df_tss, left_on=[\"tss_chrom\", \"tss_pos\"], right_on=[\"chrom\", \"position\"], how=\"inner\")\n",
    "print(f\"df.shape: {df.shape}\")\n",
    "df = df.merge(df_tes, left_on=[\"tes_chrom\", \"tes_pos\"], right_on=[\"chrom\", \"position\"], how=\"inner\", suffixes=(\"_tss\", \"_tes\"))\n",
    "print(f\"df.shape: {df.shape}\")\n",
    "df = df.merge(df_label, left_on=[\"transcript_id\"], right_on=[\"transcript_id\"], how=\"inner\")\n",
    "print(f\"df.shape: {df.shape}\")\n",
    "\n",
    "\n",
    "# for col in df.columns:\n",
    "#     print(f\"{col}: {df[col].dtype}\")\n",
    "\n",
    "\n",
    "# distribution of tss/tes labels in positive/negative\n",
    "df_pos = df[df[\"label\"] == 1]\n",
    "df_neg = df[df[\"label\"] == 0]\n",
    "\n",
    "print(f\"df_pos.shape: {df_pos.shape}\")\n",
    "print(f\"df_neg.shape: {df_neg.shape}\")\n",
    "\n",
    "print(f\"df_pos['label_tss   '].value_counts(): {df_pos['label_tss'].value_counts()/df_pos.shape[0]}\")\n",
    "print(f\"df_neg['label_tss'].value_counts(): {df_neg['label_tss'].value_counts()/df_neg.shape[0]}\")\n",
    "\n",
    "print(f\"df_pos['label_tes'].value_counts(): {df_pos['label_tes'].value_counts()/df_pos.shape[0]}\")\n",
    "print(f\"df_neg['label_tes'].value_counts(): {df_neg['label_tes'].value_counts()/df_neg.shape[0]}\")\n",
    "\n",
    "\n",
    "\n",
    "\n",
    "\n",
    "\n",
    "\n",
    "\n"
   ]
  },
  {
   "cell_type": "code",
   "execution_count": 6,
   "id": "34b62c2a",
   "metadata": {},
   "outputs": [
    {
     "name": "stdout",
     "output_type": "stream",
     "text": [
      "/datadisk1/ixk5174/project_repo/Telos-test\n",
      "Accuracy of model: 0.8783683821198351\n",
      "Inc_count: 1151\n"
     ]
    }
   ],
   "source": [
    "from ml_utils import load_tmap_labels\n",
    "from config import load_config\n",
    "import pandas as pd\n",
    "import os \n",
    "import numpy as np\n",
    "from ml_utils import stratified_split\n",
    "\n",
    "os.chdir(\"/datadisk1/ixk5174/project_repo/Telos-test/\")\n",
    "print(os.getcwd())\n",
    "\n",
    "project_config = load_config(\"project_config/cDNA-NA12878_stringtie_config.pkl\")\n",
    "pred_df = pd.read_csv(f\"{project_config.predictions_output_dir}/randomforest_stage2_predictions_train.csv\", sep = \"\\t\")\n",
    "\n",
    "# find accuracy of model\n",
    "acc = 0\n",
    "inc_count = 0\n",
    "# pred_df['pred_label'] = pred_df['pred_label'].astype(int)\n",
    "for i in range(len(pred_df)):\n",
    "    if pred_df.iloc[i]['pred_label'] == pred_df.iloc[i]['label']:\n",
    "        acc += 1\n",
    "    else:\n",
    "        # print(f\"pred_df.iloc[i]:  {pred_df.iloc[i]}\")\n",
    "        inc_count += 1\n",
    "print(f\"Accuracy of model: {acc/len(pred_df)}\")\n",
    "print(f\"Inc_count: {inc_count}\")\n",
    "\n",
    "\n"
   ]
  }
 ],
 "metadata": {
  "kernelspec": {
   "display_name": "irtesam-berth",
   "language": "python",
   "name": "python3"
  },
  "language_info": {
   "codemirror_mode": {
    "name": "ipython",
    "version": 3
   },
   "file_extension": ".py",
   "mimetype": "text/x-python",
   "name": "python",
   "nbconvert_exporter": "python",
   "pygments_lexer": "ipython3",
   "version": "3.1.undefined"
  }
 },
 "nbformat": 4,
 "nbformat_minor": 5
}
